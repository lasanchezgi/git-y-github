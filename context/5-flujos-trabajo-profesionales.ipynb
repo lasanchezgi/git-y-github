{
 "cells": [
  {
   "attachments": {},
   "cell_type": "markdown",
   "metadata": {},
   "source": [
    "# Flujo de trabajo profesionales"
   ]
  },
  {
   "attachments": {},
   "cell_type": "markdown",
   "metadata": {},
   "source": [
    "## Haciendo merge de ramas de desarrollo a master"
   ]
  },
  {
   "cell_type": "markdown",
   "metadata": {},
   "source": [
    "Para poder desarrollar software de manera óptima y ordenada, necesitamos tener un flujo de trabajo profesional, que nos permita trabajar en conjunto sin interrumpir el trabajo de otros desarrolladores. Una buena práctica de flujo de trabajo sería la siguiente:\n",
    "\n",
    "1. Crear ramas\n",
    "2. Asignar una rama a cada programador\n",
    "3. El programador baja el repositorio con `git pull origin master`\n",
    "4. El programador cambia de rama\n",
    "5. El programador trabaja en esa rama y hace commits\n",
    "6. El programador sube su trabajo con `git push origin #nombre_rama`\n",
    "7. El encargado de organizar el proyecto baja, revisa y unifica todos los cambios"
   ]
  },
  {
   "attachments": {},
   "cell_type": "markdown",
   "metadata": {},
   "source": [
    "## Pull requests"
   ]
  },
  {
   "cell_type": "markdown",
   "metadata": {},
   "source": [
    "En un entorno profesional normalmente se bloquea la rama master, y para enviar código a dicha rama pasa por un code review y luego de su aprobación se unen códigos con los llamados merge request.\n",
    "\n",
    "Para realizar pruebas enviamos el código a servidores que normalmente los llamamos staging develop (servidores de pruebas) luego de que se realizan las pruebas pertinentes tanto de código como de la aplicación estos pasan al servidor de producción con el ya antes mencionado merge request.\n",
    "\n",
    "Los PR (pull requests) son la base de la colaboración a proyectos Open Source, si tienen pensando colaborar en alguno es muy importante entender esto y ver cómo se hace en las próximas clases. Por lo general es forkear el proyecto, implementar el cambio en una nueva rama, hacer el PR y esperar que los administradores del proyecto hagan el merge o pidan algún cambio en el código o commits que hiciste.\n",
    "\n",
    "Proceso de un pull request para trabajo en producción:\n",
    "1. Un pull request es un estado intermedio antes de enviar el merge.\n",
    "2. El pull request permite que otros miembros del equipo revisen el código y así aprobar el merge a la rama.\n",
    "3. Permite a las personas que no forman el equipo, trabajar y colaborar con una rama.\n",
    "4. La persona que tiene la responsabilidad de aceptar los pull request y hacer los merge tienen un perfil especial y son llamados DevOps\n",
    "\n",
    "\n",
    "<img src='../img/flujodetrabprofbranches.png'>"
   ]
  },
  {
   "attachments": {},
   "cell_type": "markdown",
   "metadata": {},
   "source": [
    "### Utilizando pull requests en GitHub"
   ]
  },
  {
   "cell_type": "markdown",
   "metadata": {},
   "source": [
    "Un Pull Request es una función de GitHub que permite a tu equipo solicitar la revisión y aprobación de sus cambios antes de fusionarlos en la rama principal de desarrollo, denominada “master” o “main”.\n",
    "\n",
    "Al crear un PR se genera una conversación en la que los demás miembros pueden seguir y comentar los cambios propuestos en el código del repositorio. Esto permite detectar cualquier error o problema potencial antes de integrarlos en la rama principal, lo que ayuda a mantener el proyecto más limpio y estable.\n",
    "\n",
    "#### Estructura de la incorporación de cambios\n",
    "El proceso para hacer un pull request consiste en indicar la rama y repositorio de origen y destino. De esta forma, un desarrollador podrá incluir tus cambios en su proyecto.\n",
    "\n",
    "<img src='../img/imagen-articlases-optimizada.webp'>\n",
    "\n",
    "Bitbucket tiene una configuración predeterminada que funciona para la mayoría de los equipos, pero cada equipo puede personalizarla para ajustarla a su propio flujo de trabajo.\n",
    "\n",
    "#### Cómo hacer un pull request\n",
    "Un PR es un proceso crucial para facilitar la revisión y la integración efectiva del código. A continuación, veremos el paso a paso.\n",
    "\n",
    "##### Solicitando un pull request\n",
    "1. **Crea una rama paralela**: Antes de hacer cambios en el código, utiliza el comando `git checkout -b <rama>` para crear una nueva rama. Así, podrás hacer tus modificaciones sin afectar la rama principal (por ejemplo, `master`).\n",
    "2. **Realiza commits**: Después de hacer cambios en los archivos, usa `git commit -am '<Comentario>'` para hacer un commit con un mensaje descriptivo.\n",
    "3. **Sube los cambios**: Usa `git push origin <rama>` para subir tus cambios de la rama local al repositorio remoto. Reemplaza <rama> con el nombre de tu rama.\n",
    "4. **Crea un pull request**: En el repositorio remoto (como GitHub), crea un nuevo pull request. Selecciona la rama principal como destino y tu rama con los cambios como comparación.\n",
    "5. **Feedback**: Los revisores examinarán los cambios. Usa la sección de comentarios del pull request para discutir los cambios y proporcionar feedback adicional.\n",
    "6. **Realiza los cambios solicitados**: Si se solicitan cambios, regresa a tu rama local y haz las modificaciones necesarias. Luego, sube los cambios al repositorio remoto usando `git push origin <rama>`.\n",
    "\n",
    "<img src='../img/pull-request.webp'>\n",
    "\n",
    "##### Aceptando un pull request\n",
    "1. **Acepta los cambios en GitHub**: Si estás satisfecho con los cambios propuestos en el pull request y consideras que están listos para ser fusionados con la rama principal, acepta el pull request en GitHub. De esta forma, los cambios se fusionarán en la rama principal del repositorio.\n",
    "2. **Realiza el merge en la rama principal**: Después de aceptar el pull request, selecciona la opción para realizar el merge en GitHub. Esto combinará los cambios de la rama con los cambios existentes en la rama principal (master).\n",
    "\n",
    "Para solicitar y aceptar pull requests de manera efectiva, sigue estos sencillos pasos que te ayudarán a facilitar la colaboración y la mejora continua del código en tu proyecto.\n",
    "\n",
    "<img src='../img/git-hub-approve.webp'>\n",
    "\n",
    "#### ¿Cómo corregir un Pull Request?\n",
    "Al revisar un pull request, es posible encontrar problemas o áreas que necesiten corrección antes de que los cambios se puedan unir con la rama principal. Aquí se explica cómo corregir un pull request de forma efectiva.\n",
    "\n",
    "1. **Lee los comentarios y feedback**: Comprueba cuidadosamente todos los comentarios y feedback proporcionados por los revisores en el pull request. Toma nota de los problemas señalados y las sugerencias de mejora.\n",
    "2. **Regresa a tu rama local**: Utiliza el comando `git checkout <rama>` para volver a la rama en la que realizaste los cambios y necesitas revisar.\n",
    "3. **Realiza las modificaciones**: Basándote en los comentarios y feedback recibidos, efectúa las revisiones necesarias en los archivos relevantes. Asegúrate de abordar todos los problemas señalados y seguir las sugerencias de mejora proporcionadas.\n",
    "4. **Realiza un nuevo commit**: Después de efectuar las correcciones, utiliza el comando `git commit -am '<Comentario>'` para crear un nuevo commit que refleje las correcciones realizadas. Asegúrate de proporcionar un mensaje claro y descriptivo para indicar las modificaciones realizadas.\n",
    "5. **Sube los cambios al repositorio remoto**: Utiliza el comando `git push origin <rama>` para subir los cambios corregidos a la rama correspondiente en el repositorio remoto.\n",
    "6. **Actualiza el pull request**: Una vez que los cambios corregidos se hayan subido al repositorio remoto, el pull request se actualizará automáticamente para reflejar las modificaciones procedidas en la rama. Los revisores podrán ver los nuevos cambios y comentarios.\n",
    "7. **Comunica las correcciones realizadas**: Si consideras que has abordado adecuadamente los problemas señalados y las sugerencias de mejora, puedes comunicar a los revisores que has realizado las correcciones necesarias y que el pull request está listo para ser revisado nuevamente.\n",
    "\n",
    "\n",
    "#### Es hora de administrar tus pull requests\n",
    "Al seguir estos pasos, podrás revisar un pull request de manera efectiva, asegurándote de abordar los problemas identificados y proporcionar una versión mejorada de los cambios propuestos. La comunicación abierta y clara con los revisores es fundamental durante este proceso para garantizar una colaboración exitosa.\n",
    "\n",
    "Recuerda que cualquier modificación que realices en una rama también modificará el pull request, así que es importante que procedas con los cambios necesarios y los subas de nuevo al repositorio remoto antes de aceptar el pull request."
   ]
  },
  {
   "attachments": {},
   "cell_type": "markdown",
   "metadata": {},
   "source": [
    "## Creando un Fork, contribuyendo a un respositorio"
   ]
  },
  {
   "cell_type": "markdown",
   "metadata": {},
   "source": [
    "Los forks o bifurcaciones son una característica única de GitHub en la que se crea una copia exacta del estado actual de un repositorio directamente en GitHub. Este repositorio podrá servir como otro origen y se podrá clonar (como cualquier otro repositorio). En pocas palabras, lo podremos utilizar como un nuevo repositorio git cualquiera\n",
    "\n",
    "Un fork es como una bifurcación del repositorio completo. Comparte una historia en común con el original, pero de repente se bifurca y pueden aparecer varios cambios, ya que ambos proyectos podrán ser modificados en paralelo y para estar al día un colaborador tendrá que estar actualizando su fork con la información del original.\n",
    "\n",
    "Al hacer un fork de un poryecto en GitHub, te conviertes en dueñ@ del repositorio fork, puedes trabajar en este con todos los permisos, pero es un repositorio completamente diferente que el original, teniendo solamente alguna historia en común (como crédito al creado o creadora original).\n",
    "\n",
    "Los forks son importantes porque es la manera en la que funciona el open source, ya que, una persona puede no ser colaborador de un proyecto, pero puede contribuír al mismo, haciendo mejor software que pueda ser utilizado por cualquiera.\n",
    "\n",
    "### Cómo se hace un fork remoto desde consola en GitHub\n",
    "Al hacer un fork, GitHub sabe que se hizo el fork del proyecto, por lo que se le permite al colaborador hacer pull request desde su repositorio propio.\n",
    "\n",
    "Cuando trabajas en un proyecto que existe en diferentes repositorios remotos (normalmente a causa de un fork), es muy probable que desees poder trabajar con ambos repositorios. Para esto, puedes generar un remoto adicional desde consola.\n",
    "\n",
    "```\n",
    "git remote add <nombre_del_remoto> <url_del_remoto> \n",
    "git remote upstream https://github.com/freddier/hyperblog\n",
    "```\n",
    "\n",
    "Al crear un remoto adicional, podremos hacer pull desde el nuevo origen. En caso de tener permisos, podremos hacer fetch y push.\n",
    "\n",
    "```\n",
    "git pull <remoto> <rama>\n",
    "git pull upstream master\n",
    "```\n",
    "\n",
    "Este pull nos traerá los cambios del remoto, por lo que se estará al día en el proyecto. El flujo de trabajo cambia, en adelante se estará trabajando haciendo pull desde el upstream y push al origin para pasar a hacer pull request.\n",
    "\n",
    "```\n",
    "git pull upstream master\n",
    "git push origin master\n",
    "```"
   ]
  },
  {
   "attachments": {},
   "cell_type": "markdown",
   "metadata": {},
   "source": [
    "## Haciendo deployment a un servidor"
   ]
  },
  {
   "cell_type": "markdown",
   "metadata": {},
   "source": [
    "Deploy es el proceso que permite enviar al servidor uno o varios archivos. Este servidor puede ser de prueba, desarrollo o producción.\n",
    "\n",
    "En el siguiente ejemplo veremos cómo se realiza el deployment de un documento en un servidor web básico.\n",
    "\n",
    "### Pasos para hacer deployment en un servidor web:\n",
    "1. Entrar a la capeta de los archivos del servidor.\n",
    "2. Copiar link en clone, elegir entre HTTPS o SSH del repositorio a contribuir.\n",
    "> -En la carpeta deseada se clona el repositorio:\n",
    "```\n",
    "git clone url\n",
    "Deploy:\n",
    "```\n",
    "3. Realizar cambios y commit en GitHub.\n",
    "4. Traer al Repositorio local las actualizacion para el servidor en la capeta de los archivos del servidor.\n",
    "```\n",
    "git pull ramaRemota main\n",
    "```\n",
    "\n",
    "**Nota**: Siempre se debe proteger el archivo .git. Dependiendo del software para el servidor web, existen diferentes maneras. La conexión entre GitHub y el servidor se puede realizar mediante: Travis (pago) o Jenkis (Open source)."
   ]
  },
  {
   "attachments": {},
   "cell_type": "markdown",
   "metadata": {},
   "source": [
    "## Ignorar archivos en el repositorio con .gitignore"
   ]
  },
  {
   "cell_type": "markdown",
   "metadata": {},
   "source": [
    "No todos los archivos que agregas a un proyecto deberían ir a un repositorio. Por ejemplo, cuando tienes un archivo donde están tus contraseñas que comúnmente tienen la extensión .env o cuando te estás conectando a una base de datos; **son archivos que nadie debe ver**.\n",
    "\n",
    "Por diversas razones, no todos los archivos que agregas a un proyecto deberían guardarse en un repositorio. Esto es porque hay archivos que no todo el mundo debería de ver, y hay archivos que al estar en el repositorio ralentizan el proceso de desarrollo (por ejemplo: los binary large objects, blob, que tardan en descargarse).\n",
    "\n",
    "Para que no se suban estos archivos no deseados se puede crear un archivo con el nombre .gitignore en la raíz del repositorio con las reglas para los archivos que no se deberían subir.\n",
    "\n",
    "Las razones principales para tomar la decisión de no agregar un archivo a un repositorio son:\n",
    "\n",
    "Es un archivo con contraseñas (normalmente con la extensión .env)\n",
    "Es un blob (binary large object, objeto binario grande), mismos que son difíciles de gestionar en git.\n",
    "Son archivos que se generan corriendo comandos, por ejemplo la carpeta node_modules, que genera npm al correr el comando npm install"
   ]
  },
  {
   "attachments": {},
   "cell_type": "markdown",
   "metadata": {},
   "source": [
    "## Readme.md es una excelente práctica"
   ]
  },
  {
   "cell_type": "markdown",
   "metadata": {},
   "source": [
    "`README.md` es el lugar donde se explica de qué trata el proyecto, cómo utilizarlo y demás información que se considere que se deba conocer cualquier persona que vaya a trabajar de alguna forma con el proyecto.\n",
    "\n",
    "Los archivos README son escritos en un lenguaje llamado markdown, por eso la extensión .md, mismo que es un estándar de escritura en diversos sitios (como Platzi, Wikipedia y el mismo GitHub).\n",
    "\n",
    "[Markdown Guide - Extended Syntax](https://www.markdownguide.org/extended-syntax)\n",
    "\n",
    "Los `README.md` pueden estar en todas las carpetas, pero el más importante es el que se encuentra en la raíz. Este documento ayuda a que los colaboradores sepan información relevante del proyecto, módulo o sección. Puedes crear cualquier archivo con la extensión .md pero solo los `README.md` los mostrará por defecto GitHub."
   ]
  },
  {
   "attachments": {},
   "cell_type": "markdown",
   "metadata": {},
   "source": [
    "## Tu sitio web público con GitHub Pages"
   ]
  },
  {
   "cell_type": "markdown",
   "metadata": {},
   "source": [
    "GitHub tiene un servicio de hosting gratis llamado GitHub Pages. Con él, puedes tener un repositorio alojado en GitHub y hacer que el contenido se muestre en la web en tiempo real.\n",
    "\n",
    "Este es un sitio para nuestros proyectos donde lo único que tenemos que hacer es tener un repositorio alojado. En la página, podemos seguir las instrucciones para crear este repositorio\n",
    "\n",
    "### Pasos para subir un repositorio a GitHub Pages\n",
    "1. Debemos tomar la llave SSH y hacer un `git clone #SSHexample` en mi computador local (Home).\n",
    "2. Luego, accederemos a la carpeta nueva que aparece en nuestra máquina local.\n",
    "3. Creamos un nuevo archivo que se llame index.html\n",
    "4. Guardamos los cambios, hacemos un `git pull` y seguido de esto un `git push` a `master`.\n",
    "5. Vamos a las opciones de settings de este repositorio y, en la parte de abajo, en la columna Github Pages, configuramos el source o fuente para que traiga la rama master\n",
    "6. Guardamos los cambios.\n",
    "\n",
    "Después de esto, podremos ver nuestro trabajo en la web como si tuviéramos nuestro propio servidor.\n",
    "\n",
    "[GitHub Pages](https://pages.github.com/)"
   ]
  }
 ],
 "metadata": {
  "language_info": {
   "name": "python"
  },
  "orig_nbformat": 4
 },
 "nbformat": 4,
 "nbformat_minor": 2
}
