{
 "cells": [
  {
   "attachments": {},
   "cell_type": "markdown",
   "metadata": {},
   "source": [
    "# Flujo de trabajo básico en Git"
   ]
  },
  {
   "attachments": {},
   "cell_type": "markdown",
   "metadata": {},
   "source": [
    "## Flujo de trabajo básico con un respositorio remoto"
   ]
  },
  {
   "cell_type": "markdown",
   "metadata": {},
   "source": [
    "Cuando empiezas a trabajar en un entorno local, el proyecto vive únicamente en tu computadora. Esto significa que no hay forma de que otros miembros del equipo trabajen en él.\n",
    "\n",
    "Para solucionar esto, utilizamos los servidores remotos: un nuevo estado que deben seguir nuestros archivos para conectarse y trabajar con equipos de cualquier parte del mundo.\n",
    "\n",
    "Estos servidores remotos pueden estar alojados en GitHub, GitLab, BitBucket, entre otros. Lo que van a hacer es guardar el mismo repositorio que tienes en tu computadora y darnos una URL con la que todos podremos acceder a los archivos del proyecto. Así, el equipo podrá descargarlos, hacer cambios y volverlos a enviar al servidor remoto para que otras personas vean los cambios, comparen sus versiones y creen nuevas propuestas para el proyecto.\n",
    "\n",
    "Esto significa que debes aprender algunos nuevos comandos\n",
    "\n",
    "### Comandos para trabajo remoto con GIT\n",
    "* `git clone url_del_servidor_remoto`: Nos permite descargar los archivos de la última versión de la rama principal y todo el historial de cambios en la carpeta .git.\n",
    "* `git push`: Luego de hacer git add y git commit debemos ejecutar este comando para mandar los cambios al servidor remoto.\n",
    "* `git fetch`: Lo usamos para traer actualizaciones del servidor remoto y guardarlas en nuestro repositorio local (en caso de que hayan, por supuesto).\n",
    "* `git merge`: También usamos el comando git merge con servidores remotos. Lo necesitamos para combinar los últimos cambios del servidor remoto y nuestro directorio de trabajo.\n",
    "* `git pull`: Básicamente, git fetch y git merge al mismo tiempo.\n",
    "\n",
    "Adicionalmente, tenemos otros comandos que nos sirven para trabajar en proyectos muy grandes:\n",
    "\n",
    "* `git log --oneline`:Te muestra el id commit y el título del commit.\n",
    "* `git log --decorate`: Te muestra donde se encuentra el head point en el log.\n",
    "* `git log --stat`: Explica el número de líneas que se cambiaron brevemente.\n",
    "* `git log -p`: Explica el número de líneas que se cambiaron y te muestra que se cambió en el contenido.\n",
    "* `git shortlog`: Indica que commits ha realizado un usuario, mostrando el usuario y el título de sus commits.\n",
    "* `git log --graph --oneline --decorate` y\n",
    "* `git log --pretty=format`:\"%cn hizo un commit %h el dia %cd\": Muestra mensajes personalizados de los commits.\n",
    "* `git log -3`: Limitamos el número de commits.\n",
    "* `git log --after=“2018-1-2”`\n",
    "* `git log --after=“today”` y\n",
    "* `git log --after=“2018-1-2” --before=“today”`: Commits para localizar por fechas.\n",
    "* `git log --author=“Name Author”`: Commits hechos por autor que cumplan exactamente con el nombre.\n",
    "* `git log --grep=“INVIE”`: Busca los commits que cumplan tal cual está escrito entre las comillas.\n",
    "* `git log --grep=“INVIE” –i`: Busca los commits que cumplan sin importar mayúsculas o minúsculas.\n",
    "* `git log – index.html`: Busca los commits en un archivo en específico.\n",
    "* `git log -S “Por contenido”`: Buscar los commits con el contenido dentro del archivo.\n",
    "* `git log > log.txt`: guardar los logs en un archivo txt"
   ]
  },
  {
   "attachments": {},
   "cell_type": "markdown",
   "metadata": {},
   "source": [
    "## Introducción a las ramas o branches de Git"
   ]
  },
  {
   "cell_type": "markdown",
   "metadata": {},
   "source": [
    "Las ramas (branches) son la forma de hacer cambios en nuestro proyecto sin afectar el flujo de trabajo de la rama principal. Esto porque queremos trabajar una parte muy específica de la aplicación o simplemente experimentar.\n",
    "\n",
    "La cabecera o `HEAD` representan la rama y el commit de esa rama donde estamos trabajando. Por defecto, esta cabecera aparecerá en el último commit de nuestra rama principal. Pero podemos cambiarlo al crear una rama (`git branch rama`, `git checkout -b rama`) o movernos en el tiempo a cualquier otro commit de cualquier otra rama con los comandos (`git reset id-commit`, `git checkout rama-o-id-commit`).\n",
    "\n",
    "### Cómo funcionan las ramas en GIT\n",
    "Las ramas son la manera de hacer cambios en nuestro proyecto sin afectar el flujo de trabajo de la rama principal. Esto porque queremos trabajar una parte muy específica de la aplicación o simplemente experimentar.\n",
    "* `git branch -nombre de la rama-`: Con este comando se genera una nueva rama.\n",
    "* `git checkout -nombre de la rama-`: Con este comando puedes saltar de una rama a otra.\n",
    "* `git checkout -b rama`: Genera una rama y nos mueve a ella automáticamente, Es decir, es la combinación de git branch y git checkout al mismo tiempo.\n",
    "* `git reset id-commit`: Nos lleva a cualquier commit no importa la rama, ya que identificamos el id del tag., eliminando el historial de los commit posteriores al tag seleccionado.\n",
    "* `git checkout rama-o-id-commit`: Nos lleva a cualquier commit sin borrar los commit posteriores al tag seleccionado."
   ]
  },
  {
   "attachments": {},
   "cell_type": "markdown",
   "metadata": {},
   "source": [
    "## Fusión de ramas con Git merge"
   ]
  },
  {
   "cell_type": "markdown",
   "metadata": {},
   "source": [
    "La fusión en Git es la forma en que este sistema une un historial bifurcado. El comando `git merge` permite integrar líneas de desarrollo independientes generadas por `git branch` en una sola rama. Con este comando, podemos crear un nuevo commit que combina dos ramas o branches: la rama actual y la rama que se indica después del comando.\n",
    "\n",
    "Estos comandos de fusión del merge afectan solo a la rama actual y no a la rama de destino. Por lo tanto, te recomendamos utilizar `git checkout` para seleccionar la rama actual y `git branch -d` para eliminar la rama de destino obsoleta.\n",
    "\n",
    "### Funcionamiento de Git merge\n",
    "Git merge fusiona secuencias de confirmaciones en un solo historial, generalmente para combinar dos ramas. Busca una confirmación de base común y genera una confirmación de fusión que representa la combinación de las dos ramas hasta el resultado final.\n",
    "\n",
    "<img src='../img/git-merge-final.webp'>\n",
    "\n",
    "#### ¿Cómo unir dos ramas en git?\n",
    "Ahora bien, para combinar ramas en tu repositorio local, usa git checkout para cambiar a la rama donde deseas fusionar. Por lo general, esta es la rama principal. Luego, emplea git merge y especifica el nombre de la otra rama que deseas traer a esta rama. Ten en cuenta que esto es una combinación de avance rápido.\n",
    "\n",
    "#### ¿Cómo realizar un merge en git?\n",
    "Para hacer un merge en Git, primero asegúrate de estar en la rama correcta. Después, usa el comando git merge seguido del nombre de la rama que quieres combinar. Por ejemplo, si quieres crear un nuevo commit en la rama master con los cambios de la rama cabecera, usa este comando:\n",
    "\n",
    "`git checkout master`\n",
    "\n",
    "`git merge cabecera`\n",
    "\n",
    "Es importante tener en cuenta que en caso de haber conflictos, debes guardar tus cambios antes de hacer `git checkout` para evitar perder tu trabajo. También es recomendable emplear los comandos básicos de GitHub, como `git fetch`, `git push` y `git pull`, para mantener actualizado tu repositorio.\n",
    "\n",
    "En este ejemplo, vamos a crear un nuevo commit en la rama master combinando los cambios de una rama llamada cabecera: Otra opción es crear un nuevo commit en la rama cabecera combinando los cambios de cualquier otra rama:\n",
    "\n",
    "Git es asombroso porque puede saber cuáles cambios deben conservarse en una rama y cuáles no. En casos de conflictos, asegúrate de guardar tus cambios antes de hacer `git checkout` para evitar perder tu trabajo.\n",
    "\n",
    "### Comandos básicos de GitHub\n",
    "* `git init`: crear un repositorio.\n",
    "* `git add`: agregar un archivo a staging.\n",
    "* `git commit -m “mensaje”`: guardar el archivo en git con un mensaje.\n",
    "* `git branch`: crear una nueva rama.\n",
    "* `git checkout`: moverse entre ramas.\n",
    "* `git push`: mandar cambios a un servidor remoto.\n",
    "* `git fetch`: traer actualizaciones del servidor remoto y guardarlas en nuestro repositorio local.\n",
    "* `git merge`: tiene dos usos. Uno es la fusión de ramas, funcionando como un commit en la rama actual, trayendo la rama indicada. Su otro uso es guardar los cambios de un servidor remoto en nuestro directorio.\n",
    "* `git pull`: fetch y merge al mismo tiempo.\n",
    "* `git checkout “codigo de version” “nombre del archivo”`: volver a la última versión de la que se ha hecho commit.\n",
    "* `git reset`: vuelve al pasado sin posibilidad de volver al futuro, se debe usar con especificaciones.\n",
    "* `git reset --soft`: vuelve a la versión en el repositorio, pero guarda los cambios en staging. Así, podemos aplicar actualizaciones a un nuevo commit.\n",
    "* `git reset --hard`: todo vuelve a su versión anterior\n",
    "* `git reset HEAD`: saca los cambios de staging, pero no los borra. Es lo opuesto a git add.\n",
    "* `git rm`: elimina los archivos, pero no su historial. Si queremos recuperar algo, solo hay que regresar. se utiliza así: `git rm --cached` elimina los archivos en staging pero los mantiene en el disco duro.\n",
    "* `git rm --force`: elimina los archivos de git y del disco duro.\n",
    "* `git status`: estado de archivos en el repositorio.\n",
    "* `git log`: historia entera del archivo.\n",
    "* `git log --stat`: cambios específicos en el archivo a partir de un commit.\n",
    "* `git show`: cambios históricos y específicos hechos en un archivo.\n",
    "* `git diff “codigo de version 1” “codigo de version 2”`: comparar cambios entre versiones.\n",
    "* `git diff`: comparar directorio con staging."
   ]
  },
  {
   "attachments": {},
   "cell_type": "markdown",
   "metadata": {},
   "source": [
    "## Resolución de conflictos al hacer un merge"
   ]
  },
  {
   "cell_type": "markdown",
   "metadata": {},
   "source": [
    "Git nunca borra nada, a menos que nosotros se lo indiquemos. Cuando usamos los comandos `git merge` o `git checkout` estamos cambiando de rama o creando un nuevo commit, no borrando ramas ni commits (recuerda que puedes borrar commits con `git reset` y ramas con `git branch -d`).\n",
    "\n",
    "Git es muy inteligente y puede resolver algunos conflictos automáticamente: cambios, nuevas líneas, entre otros. Pero algunas veces no sabe cómo resolver estas diferencias, por ejemplo, cuando dos ramas diferentes hacen cambios distintos a una misma línea.\n",
    "\n",
    "Esto lo conocemos como conflicto y lo podemos resolver manualmente. Solo debemos hacer el merge, ir a nuestro editor de código y elegir si queremos quedarnos con alguna de estas dos versiones o algo diferente. Algunos editores de código como Visual Studio Code nos ayudan a resolver estos conflictos sin necesidad de borrar o escribir líneas de texto, basta con hacer clic en un botón y guardar el archivo.\n",
    "\n",
    "Recuerda que siempre debemos crear un nuevo commit para aplicar los cambios del merge. Si Git puede resolver el conflicto, hará commit automáticamente. Pero, en caso de no pueda resolverlo, debemos solucionarlo y hacer el commit.\n",
    "\n",
    "Los archivos con conflictos por el comando `git merge` entran en un nuevo estado que conocemos como Unmerged. Funcionan muy parecido a los archivos en estado Unstaged, algo así como un estado intermedio entre Untracked y Unstaged. Solo debemos ejecutar `git add` para pasarlos al área de staging y `git commit` para aplicar los cambios en el repositorio.\n",
    "\n",
    "### Cómo revertir un merge\n",
    "Si nos hemos equivocado y queremos cancelar el merge, debemos usar el siguiente comando:\n",
    "\n",
    "`git merge --abort`\n",
    "\n",
    "\n",
    "### Conflictos en repositorios remotos\n",
    "Al trabajar con otras personas, es necesario utilizar un repositorio remoto.\n",
    "­\n",
    "* Para copiar el repositorio remoto al directorio de trabajo local, se utiliza el comando `git clone <url>`, y para enviar cambios al repositorio remoto se utiliza `git push`.\n",
    "* Para actualizar el repositorio local se hace uso del comando `git fetch`, luego se debe fusionar los datos traídos con los locales usando `git merge`.\n",
    "* Para traer los datos y fusionarlos a la vez, en un solo comando, se usa `git pull`.\n",
    "* Para crear commits rápidamente, fusionando `git add` y `git commit -m \"\"`, usamos `git commit -am \"\"`.\n",
    "* Para generar nuevas ramas, hay que posicionarse sobre la rama que se desea copiar y utilizar el comando `git branch <nombre>`.\n",
    "* Para saltar entre ramas, se usa el comando `git checkout <branch>`\n",
    "* Una vez realizado los cambios en la rama, estas deben fusionarse con `git merge`.\n",
    "* El merge ocurre en la rama en la que se está posicionado. Por lo tanto, la rama a fusionar se transforma en la principal.\n",
    "* Los merges también son commits.\n",
    "* Los merges pueden generar conflictos, esto aborta la acción y pide que soluciones el problema manualmente, aceptando o rechazando los cambios que vienen."
   ]
  }
 ],
 "metadata": {
  "language_info": {
   "name": "python"
  },
  "orig_nbformat": 4
 },
 "nbformat": 4,
 "nbformat_minor": 2
}
