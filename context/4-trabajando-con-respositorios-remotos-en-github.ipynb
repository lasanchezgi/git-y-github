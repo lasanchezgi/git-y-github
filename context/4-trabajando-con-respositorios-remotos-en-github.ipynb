{
 "cells": [
  {
   "attachments": {},
   "cell_type": "markdown",
   "metadata": {},
   "source": [
    "# Trabajando con respositorios remotos en GitHub"
   ]
  },
  {
   "attachments": {},
   "cell_type": "markdown",
   "metadata": {},
   "source": [
    "## ¿Cómo funcionan las llaves públicas y privadas?"
   ]
  },
  {
   "cell_type": "markdown",
   "metadata": {},
   "source": [
    "Las llaves públicas y privadas, conocidas también como cifrado asimétrico de un solo camino, sirven para mandar mensajes privados entre varios nodos con la lógica de que firmas tu mensaje con una llave pública vinculada con una llave privada que puede leer el mensaje.\n",
    "\n",
    "Las llaves públicas y privadas nos ayudan a cifrar y descifrar nuestros archivos de forma que los podamos compartir sin correr el riesgo de que sean interceptados por personas con malas intenciones.\n",
    "\n",
    "### Cómo funciona un mensaje cifrado con llaves públicas y privadas\n",
    "* Ambas personas deben crear su llave pública y privada.\n",
    "* Ambas personas pueden compartir su llave pública a las otras partes (recuerda que esta llave es pública, no hay problema si la “interceptan”).\n",
    "* La persona que quiere compartir un mensaje puede usar la llave pública de la otra persona para cifrar los archivos y asegurarse que solo puedan ser descifrados con la llave privada de la persona con la que queremos compartir el mensaje.\n",
    "* El mensaje está cifrado y puede ser enviado a la otra persona sin problemas en caso de que los archivos sean interceptados.\n",
    "* La persona a la que enviamos el mensaje cifrado puede emplear su llave privada para descifrar el mensaje y ver los archivos.\n",
    "\n",
    "**Nota:** puedes compartir tu llave pública, pero nunca tu llave privada.\n",
    "\n",
    "<img src='../img/llavespubpriv.webp'>"
   ]
  },
  {
   "attachments": {},
   "cell_type": "markdown",
   "metadata": {},
   "source": [
    "## Configura tus llaves SSH en local"
   ]
  },
  {
   "cell_type": "markdown",
   "metadata": {},
   "source": [
    "### Cómo generar tus llaves SSH\n",
    "1. **Generar tus llaves SSH**\n",
    "\n",
    "Recuerda que es muy buena idea proteger tu llave privada con una contraseña.\n",
    "\n",
    "`ssh-keygen -t rsa -b 4096 -C \"tu@email.com\"`\n",
    "\n",
    "2. **Terminar de configurar nuestro sistema**\n",
    "\n",
    "**En Windows y Linux:**\n",
    "\n",
    "* Encender el “servidor” de llaves SSH de tu computadora: `eval $(ssh-agent -s)`\n",
    "* Añadir tu llave SSH a este “servidor”: `ssh-add ruta-donde-guardaste-tu-llave-privada`\n",
    "\n",
    "**En Mac:** \n",
    "\n",
    "* Encender el “servidor” de llaves SSH de tu computadora:`eval \"$(ssh-agent -s)\"`\n",
    "Si usas una versión de OSX superior a Mac Sierra (v10.12), debes crear o modificar un archivo “config” en la carpeta de tu usuario con el siguiente contenido (ten cuidado con las mayúsculas):\n",
    "Host *\n",
    "```\n",
    "AddKeysToAgent yes\n",
    "UseKeychain yes\n",
    "IdentityFile ruta-donde-guardaste-tu-llave-privada\n",
    "```\n",
    "* Añadir tu llave SSH al “servidor” de llaves SSH de tu computadora (en caso de error puedes ejecutar este mismo comando pero sin el argumento -K): `ssh-add -K ruta-donde-guardaste-tu-llave-privada`"
   ]
  },
  {
   "attachments": {},
   "cell_type": "markdown",
   "metadata": {},
   "source": [
    "## Uso de GitHub"
   ]
  },
  {
   "cell_type": "markdown",
   "metadata": {},
   "source": [
    "GitHub es una plataforma que nos permite guardar repositorios de Git que podemos usar como servidores remotos y ejecutar algunos comandos de forma visual e interactiva (sin necesidad de la consola de comandos).\n",
    "\n",
    "Luego de crear nuestra cuenta, podemos crear o importar repositorios, crear organizaciones y proyectos de trabajo, descubrir repositorios de otras personas, contribuir a esos proyectos, dar estrellas y muchas otras cosas.\n",
    "\n",
    "El `README.md` es el archivo que veremos por defecto al entrar a un repositorio. Es una muy buena práctica configurarlo para describir el proyecto, los requerimientos y las instrucciones que debemos seguir para contribuir correctamente.\n",
    "\n",
    "Para clonar un repositorio desde GitHub (o cualquier otro servidor remoto) debemos copiar la URL (por ahora, usando `HTTPS`) y ejecutar el comando `git clone` + la URL que acabamos de copiar. Esto descargará la versión de nuestro proyecto que se encuentra en GitHub.\n",
    "\n",
    "Sin embargo, esto solo funciona para las personas que quieren empezar a contribuir en el proyecto.\n",
    "\n",
    "### Cómo conectar un repositorio de GitHub a nuestro documento local\n",
    "Si queremos conectar el repositorio de GitHub con nuestro repositorio local, que creamos usando el comando git init, debemos ejecutar las siguientes instrucciones:\n",
    "\n",
    "1. Guardar la URL del repositorio de GitHub con el nombre de origin\n",
    "\n",
    "`git remote add origin URL`\n",
    "\n",
    "2. Verificar que la URL se haya guardado correctamente\n",
    "\n",
    "```\n",
    "git remote\n",
    "git remote -v\n",
    "```\n",
    "\n",
    "3. Traer la versión del repositorio remoto y hacer merge para crear un commit con los archivos de ambas partes. Podemos usar `git fetch` y `git merge` o solo `git pull` con el flag `--allow-unrelated-histories`:\n",
    "\n",
    "`git pull origin master --allow-unrelated-histories`\n",
    "\n",
    "4. Por último, ahora sí podemos hacer `git push` para guardar los cambios de nuestro repositorio local en GitHub:\n",
    "\n",
    "`git push origin master`\n",
    "\n",
    "\n",
    "### Cómo autenticarte en GitHub 2022\n",
    "Antes de empezar debemos renombrar la rama ‘máster’ a ‘main’, este es el nuevo estándar en GitHub, para esto:\n",
    "1. Primero nos posicionamos en la rama a la que queremos cambiarle el nombre.\n",
    "2. Ejecutamos el siguiente comando: git branch -M main\n",
    "\n",
    "### Pasos para crear un token de acceso personal.\n",
    "Desde el 2022 GitHub ya no deja hacer el push con la contraseña del propio GitHub, para esto tenemos que crear un token, y este token es la contraseña que vamos a colocar cuando nos pida clave.\n",
    "\n",
    "Seguir la secuencia: Ingresamos a nuestra cuenta de GitHub.\n",
    "\n",
    "1. Buscamos Settings\n",
    "2. Click en Developer settings\n",
    "3. Click en Personal access tokens\n",
    "4. Click en Generate new token aquí se puede colocar un nombre, la fecha de expiración.\n",
    "5. Tildar en repo y luego click en el botón verde Generate token"
   ]
  },
  {
   "attachments": {},
   "cell_type": "markdown",
   "metadata": {},
   "source": [
    "### Cambios en GitHub: de master a main"
   ]
  },
  {
   "cell_type": "markdown",
   "metadata": {},
   "source": [
    "El escritor Argentino Julio Cortázar afirma que las palabras tienen color y peso. Por otro lado, los sinónimos existen por definición, pero no expresan lo mismo. Feo no es lo mismo que desagradable, ni aromático es lo mismo que oloroso.\n",
    "\n",
    "Por lo anterior podemos afirmar que los sinónimos no expresan lo mismo, no tienen el mismo “color” ni el mismo “peso”.\n",
    "\n",
    "Sí, esta lectura es parte del curso profesional de Git & GitHub. Quédate conmigo.\n",
    "\n",
    "Desde el 1 de octubre de 2020 GitHub cambió el nombre de la rama principal: ya no es “master” -como aprenderás en el curso- sino main.\n",
    "\n",
    "Este derivado de una profunda reflexión ocasionada por el movimiento #BlackLivesMatter.\n",
    "\n",
    "La industria de la tecnología lleva muchos años usando términos como master, slave, blacklist o whitelist y esperamos pronto puedan ir desapareciendo.\n",
    "\n",
    "Y sí, las palabras importan.\n",
    "\n",
    "Por lo que de aquí en adelante cada vez que escuches a Freddy mencionar “master” debes saber que hace referencia a “main”"
   ]
  },
  {
   "attachments": {},
   "cell_type": "markdown",
   "metadata": {},
   "source": [
    "## Tu primer push"
   ]
  },
  {
   "cell_type": "markdown",
   "metadata": {},
   "source": [
    "La creación de las SSH es necesario solo una vez por cada computadora. Aquí conocerás cómo conectar a GitHub usando SSH.\n",
    "\n",
    "Luego de crear nuestras llaves SSH podemos entregarle la llave pública a GitHub para comunicarnos de forma segura y sin necesidad de escribir nuestro usuario y contraseña todo el tiempo.\n",
    "\n",
    "Para esto debes entrar a la Configuración de Llaves SSH en GitHub, crear una nueva llave con el nombre que le quieras dar y el contenido de la llave pública de tu computadora.\n",
    "\n",
    "Ahora podemos actualizar la URL que guardamos en nuestro repositorio remoto, solo que, en vez de guardar la URL con HTTPS, vamos a usar la URL con SSH:\n",
    "\n",
    "```\n",
    "ssh\n",
    "git remote set-url origin url-ssh-del-repositorio-en-github\n",
    "```\n",
    "\n",
    "### Comandos para copiar la llave SSH:\n",
    "\n",
    "* Mac: `pbcopy < ~/.ssh/id_rsa.pub`\n",
    "* Windows (Git Bash): `clip < ~/.ssh/id_rsa.pub`\n",
    "* Linux (Ubuntu): `cat ~/.ssh/id_rsa.pub`"
   ]
  },
  {
   "attachments": {},
   "cell_type": "markdown",
   "metadata": {},
   "source": [
    "## Git tag y versiones en GitHub"
   ]
  },
  {
   "cell_type": "markdown",
   "metadata": {},
   "source": [
    "En Git, las etiquetas o Git tags tienen un papel importante al asignar versiones a los commits más significativos de un proyecto. Aprender a utilizar el comando git tag, entender los diferentes tipos de etiquetas, cómo crearlas, eliminarlas y compartirlas, es esencial para un flujo de trabajo eficiente.\n",
    "\n",
    "<img src='../img/tagging.webp'>\n",
    "\n",
    "`git log --all --graph --decorate --oneline`\n",
    "\n",
    "\n",
    "### Creación de etiquetas en Git\n",
    "Para crear una etiqueta, ejecuta el siguiente comando: `git tag <tagname>`\n",
    "\n",
    "Sustituye `<tagname>` con un identificador semántico que refleje el estado del repositorio en el momento de la creación. Git admite etiquetas anotadas y ligeras.\n",
    "\n",
    "Las etiquetas anotadas almacenan información adicional como la fecha, etiquetador y correo electrónico, y son ideales para publicaciones públicas. Las etiquetas ligeras son más simples y se emplean como “marcadores” de una confirmación específica.\n",
    "\n",
    "### Listado de etiquetas\n",
    "Para obtener una lista de etiquetas en el repositorio, ejecuta el siguiente comando: `git tag`\n",
    "\n",
    "Esto mostrará una lista de las etiquetas existentes, como:\n",
    "\n",
    "```\n",
    "v1.0\n",
    "v1.1\n",
    "v1.2\n",
    "```\n",
    "\n",
    "Para perfeccionar la lista, puedes utilizar opciones adicionales, como -l con una expresión comodín.\n",
    "\n",
    "### Uso compartido de etiquetas\n",
    "Compartir etiquetas requiere un enfoque explícito al usar el comando git push. Por defecto, las etiquetas no se envían automáticamente. Para enviar etiquetas específicas, utiliza: `git push origin <tagname>`\n",
    "\n",
    "Para enviar varias etiquetas a la vez, usa: `git push origin --tags`\n",
    "\n",
    "### Eliminación de etiquetas\n",
    "Para eliminar una etiqueta, usa el siguiente comando: `git tag -d <tagname>`\n",
    "\n",
    "Esto eliminará la etiqueta identificada por `<tagname>` en el repositorio local.\n",
    "\n",
    "En resumen, las etiquetas en Git son esenciales para asignar versiones y capturar instantáneas importantes en el historial de un proyecto. Aprender a crear, listar, compartir y eliminar etiquetas mejorará tu flujo de trabajo con Git."
   ]
  },
  {
   "attachments": {},
   "cell_type": "markdown",
   "metadata": {},
   "source": [
    "## Manejo de ramas en GitHub"
   ]
  },
  {
   "cell_type": "markdown",
   "metadata": {},
   "source": [
    "Si no te funciona el comando gitk es posible no lo tengas instalado por defecto.\n",
    "\n",
    "Para instalar gitk debemos ejecutar los siguientes comandos:\n",
    "\n",
    "```\n",
    "sudo apt-get update\n",
    "sudo apt-get install gitk\n",
    "```\n",
    "\n",
    "Las ramas nos permiten hacer cambios a nuestros archivos sin modificar la versión principal (master). Puedes trabajar con ramas que nunca envías a GitHub, así como pueden haber ramas importantes en GitHub que nunca usas en el repositorio local. Lo crucial es que aprendas a manejarlas para trabajar profesionalmente.\n",
    "\n",
    "Si, estando en otra rama, modificamos los archivos y hacemos commit, tanto el historial(git log) como los archivos serán afectados. La ventaja que tiene usar ramas es que las modificaciones solo afectarán a esa rama en particular. Si luego de “guardar” los archivos(usando commit) nos movemos a otra rama (git checkout otraRama) veremos como las modificaciones de la rama pasada no aparecen en la otraRama.\n",
    "\n",
    "### Comandos para manejo de ramas en GitHub\n",
    "1. Crear una rama: `git branch branchName`\n",
    "2. Movernos a otra rama: `git checkout branchName`\n",
    "3. Crear una rama en el repositorio local: `git branch nombre-de-la-rama o git checkout -b nombre-de-la-rama`\n",
    "4. Publicar una rama local al repositorio remoto: `git push origin nombre-de-la-rama`\n",
    "\n",
    "Recuerda que podemos ver gráficamente nuestro entorno y flujo de trabajo local con Git utilizando el comando gitk. Gitk fue el primer visor gráfico que se desarrolló para ver de manera gráfica el historial de un repositorio de Git."
   ]
  },
  {
   "attachments": {},
   "cell_type": "markdown",
   "metadata": {},
   "source": [
    "## Configurar múltiples colaboradores en un respositorio de GitHub"
   ]
  },
  {
   "cell_type": "markdown",
   "metadata": {},
   "source": [
    "Por defecto, cualquier persona puede clonar o descargar tu proyecto desde GitHub, pero no pueden crear commits, ni ramas. Esto quiere decir que pueden copiar tu proyecto pero no colaborar con él. Existen varias formas de solucionar esto para poder aceptar contribuciones. Una de ellas es añadir a cada persona de nuestro equipo como colaborador de nuestro repositorio.\n",
    "\n",
    "### Cómo agregar colaboradores en Github\n",
    "Solo debemos entrar a la configuración de colaboradores de nuestro proyecto. Se encuentra en:\n",
    "\n",
    "`Repositorio > Settings > Collaborators`\n",
    "\n",
    "Ahí, debemos añadir el email o username de los nuevos colaboradores.\n",
    "\n",
    "Si, como colaborador, agregaste erróneamente el mensaje del commit, lo puedes cambiar de la siguiente manera:\n",
    "\n",
    "* Hacer un commit con el nuevo mensaje que queremos, esto nos abre el editor de texto de la terminal: `git commit —amend`\n",
    "* Corregimos el mensaje\n",
    "* Traer el repositorio remoto `git pull origin master`\n",
    "* Ejecutar el cambio `git push --set-upstream origin master`"
   ]
  }
 ],
 "metadata": {
  "language_info": {
   "name": "python"
  },
  "orig_nbformat": 4
 },
 "nbformat": 4,
 "nbformat_minor": 2
}
